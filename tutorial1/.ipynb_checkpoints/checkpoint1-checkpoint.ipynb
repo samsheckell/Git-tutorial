{
 "cells": [
  {
   "cell_type": "markdown",
   "metadata": {},
   "source": [
    "# Checkpoint 1"
   ]
  },
  {
   "cell_type": "markdown",
   "metadata": {},
   "source": [
    "Reminder: \n",
    "\n",
    "- You are being evaluated for compeletion and effort in this checkpoint. \n",
    "- Avoid manual labor / hard coding as much as possible, everything we've taught you so far are meant to simplify and automate your process."
   ]
  },
  {
   "cell_type": "markdown",
   "metadata": {},
   "source": [
    "We will be working with the same `states_edu.csv` that you should already be familiar with from the tutorial.\n",
    "\n",
    "We investigated Grade 8 reading score in the tutorial. For this checkpoint, you are asked to investigate another test. Here's an overview:\n",
    "\n",
    "* Choose a specific response variable to focus on\n",
    ">Grade 4 Math, Grade 4 Reading, Grade 8 Math\n",
    "* Pick or create features to use\n",
    ">Will all the features be useful in predicting test score? Are some more important than others? Should you standardize, bin, or scale the data?\n",
    "* Explore the data as it relates to that test\n",
    ">Create at least 2 visualizations (graphs), each with a caption describing the graph and what it tells us about the data\n",
    "* Create training and testing data\n",
    ">Do you want to train on all the data? Only data from the last 10 years? Only Michigan data?\n",
    "* Train a ML model to predict outcome \n",
    ">Define what you want to predict, and pick a model in sklearn to use (see sklearn <a href=\"https://scikit-learn.org/stable/modules/linear_model.html\">regressors</a>.\n",
    "* Summarize your findings\n",
    ">Write a 1 paragraph summary of what you did and make a recommendation about if and how student performance can be predicted\n",
    "\n",
    "Include comments throughout your code! Every cleanup and preprocessing task should be documented.\n",
    "\n",
    "Of course, if you're finding this assignment interesting (and we really hope you do!), you are welcome to do more than the requirements! For example, you may want to see if expenditure affects 4th graders more than 8th graders. Maybe you want to look into the extended version of this dataset and see how factors like sex and race are involved. You can include all your work in this notebook when you turn it in -- just always make sure you explain what you did and interpret your results. Good luck!"
   ]
  },
  {
   "cell_type": "markdown",
   "metadata": {},
   "source": [
    "<h2> Data Cleanup </h2>\n",
    "\n",
    "Import `numpy`, `pandas`, and `matplotlib`.\n",
    "\n",
    "(Feel free to import other libraries!)"
   ]
  },
  {
   "cell_type": "code",
   "execution_count": 98,
   "metadata": {},
   "outputs": [],
   "source": [
    "import pandas as pd\n",
    "import numpy as np\n",
    "import matplotlib.pyplot as plt"
   ]
  },
  {
   "cell_type": "markdown",
   "metadata": {},
   "source": [
    "Load in the \"states_edu.csv\" dataset and take a look at the head of the data"
   ]
  },
  {
   "cell_type": "code",
   "execution_count": 99,
   "metadata": {},
   "outputs": [
    {
     "data": {
      "text/html": [
       "<div>\n",
       "<style scoped>\n",
       "    .dataframe tbody tr th:only-of-type {\n",
       "        vertical-align: middle;\n",
       "    }\n",
       "\n",
       "    .dataframe tbody tr th {\n",
       "        vertical-align: top;\n",
       "    }\n",
       "\n",
       "    .dataframe thead th {\n",
       "        text-align: right;\n",
       "    }\n",
       "</style>\n",
       "<table border=\"1\" class=\"dataframe\">\n",
       "  <thead>\n",
       "    <tr style=\"text-align: right;\">\n",
       "      <th></th>\n",
       "      <th>PRIMARY_KEY</th>\n",
       "      <th>STATE</th>\n",
       "      <th>YEAR</th>\n",
       "      <th>ENROLL</th>\n",
       "      <th>TOTAL_REVENUE</th>\n",
       "      <th>FEDERAL_REVENUE</th>\n",
       "      <th>STATE_REVENUE</th>\n",
       "      <th>LOCAL_REVENUE</th>\n",
       "      <th>TOTAL_EXPENDITURE</th>\n",
       "      <th>INSTRUCTION_EXPENDITURE</th>\n",
       "      <th>...</th>\n",
       "      <th>GRADES_4_G</th>\n",
       "      <th>GRADES_8_G</th>\n",
       "      <th>GRADES_12_G</th>\n",
       "      <th>GRADES_1_8_G</th>\n",
       "      <th>GRADES_9_12_G</th>\n",
       "      <th>GRADES_ALL_G</th>\n",
       "      <th>AVG_MATH_4_SCORE</th>\n",
       "      <th>AVG_MATH_8_SCORE</th>\n",
       "      <th>AVG_READING_4_SCORE</th>\n",
       "      <th>AVG_READING_8_SCORE</th>\n",
       "    </tr>\n",
       "  </thead>\n",
       "  <tbody>\n",
       "    <tr>\n",
       "      <th>0</th>\n",
       "      <td>1992_ALABAMA</td>\n",
       "      <td>ALABAMA</td>\n",
       "      <td>1992</td>\n",
       "      <td>NaN</td>\n",
       "      <td>2678885.0</td>\n",
       "      <td>304177.0</td>\n",
       "      <td>1659028.0</td>\n",
       "      <td>715680.0</td>\n",
       "      <td>2653798.0</td>\n",
       "      <td>1481703.0</td>\n",
       "      <td>...</td>\n",
       "      <td>57948.0</td>\n",
       "      <td>58025.0</td>\n",
       "      <td>41167.0</td>\n",
       "      <td>NaN</td>\n",
       "      <td>NaN</td>\n",
       "      <td>731634.0</td>\n",
       "      <td>208.0</td>\n",
       "      <td>252.0</td>\n",
       "      <td>207.0</td>\n",
       "      <td>NaN</td>\n",
       "    </tr>\n",
       "    <tr>\n",
       "      <th>1</th>\n",
       "      <td>1992_ALASKA</td>\n",
       "      <td>ALASKA</td>\n",
       "      <td>1992</td>\n",
       "      <td>NaN</td>\n",
       "      <td>1049591.0</td>\n",
       "      <td>106780.0</td>\n",
       "      <td>720711.0</td>\n",
       "      <td>222100.0</td>\n",
       "      <td>972488.0</td>\n",
       "      <td>498362.0</td>\n",
       "      <td>...</td>\n",
       "      <td>9748.0</td>\n",
       "      <td>8789.0</td>\n",
       "      <td>6714.0</td>\n",
       "      <td>NaN</td>\n",
       "      <td>NaN</td>\n",
       "      <td>122487.0</td>\n",
       "      <td>NaN</td>\n",
       "      <td>NaN</td>\n",
       "      <td>NaN</td>\n",
       "      <td>NaN</td>\n",
       "    </tr>\n",
       "    <tr>\n",
       "      <th>2</th>\n",
       "      <td>1992_ARIZONA</td>\n",
       "      <td>ARIZONA</td>\n",
       "      <td>1992</td>\n",
       "      <td>NaN</td>\n",
       "      <td>3258079.0</td>\n",
       "      <td>297888.0</td>\n",
       "      <td>1369815.0</td>\n",
       "      <td>1590376.0</td>\n",
       "      <td>3401580.0</td>\n",
       "      <td>1435908.0</td>\n",
       "      <td>...</td>\n",
       "      <td>55433.0</td>\n",
       "      <td>49081.0</td>\n",
       "      <td>37410.0</td>\n",
       "      <td>NaN</td>\n",
       "      <td>NaN</td>\n",
       "      <td>673477.0</td>\n",
       "      <td>215.0</td>\n",
       "      <td>265.0</td>\n",
       "      <td>209.0</td>\n",
       "      <td>NaN</td>\n",
       "    </tr>\n",
       "    <tr>\n",
       "      <th>3</th>\n",
       "      <td>1992_ARKANSAS</td>\n",
       "      <td>ARKANSAS</td>\n",
       "      <td>1992</td>\n",
       "      <td>NaN</td>\n",
       "      <td>1711959.0</td>\n",
       "      <td>178571.0</td>\n",
       "      <td>958785.0</td>\n",
       "      <td>574603.0</td>\n",
       "      <td>1743022.0</td>\n",
       "      <td>964323.0</td>\n",
       "      <td>...</td>\n",
       "      <td>34632.0</td>\n",
       "      <td>36011.0</td>\n",
       "      <td>27651.0</td>\n",
       "      <td>NaN</td>\n",
       "      <td>NaN</td>\n",
       "      <td>441490.0</td>\n",
       "      <td>210.0</td>\n",
       "      <td>256.0</td>\n",
       "      <td>211.0</td>\n",
       "      <td>NaN</td>\n",
       "    </tr>\n",
       "    <tr>\n",
       "      <th>4</th>\n",
       "      <td>1992_CALIFORNIA</td>\n",
       "      <td>CALIFORNIA</td>\n",
       "      <td>1992</td>\n",
       "      <td>NaN</td>\n",
       "      <td>26260025.0</td>\n",
       "      <td>2072470.0</td>\n",
       "      <td>16546514.0</td>\n",
       "      <td>7641041.0</td>\n",
       "      <td>27138832.0</td>\n",
       "      <td>14358922.0</td>\n",
       "      <td>...</td>\n",
       "      <td>418418.0</td>\n",
       "      <td>363296.0</td>\n",
       "      <td>270675.0</td>\n",
       "      <td>NaN</td>\n",
       "      <td>NaN</td>\n",
       "      <td>5254844.0</td>\n",
       "      <td>208.0</td>\n",
       "      <td>261.0</td>\n",
       "      <td>202.0</td>\n",
       "      <td>NaN</td>\n",
       "    </tr>\n",
       "  </tbody>\n",
       "</table>\n",
       "<p>5 rows × 25 columns</p>\n",
       "</div>"
      ],
      "text/plain": [
       "       PRIMARY_KEY       STATE  YEAR  ENROLL  TOTAL_REVENUE  FEDERAL_REVENUE  \\\n",
       "0     1992_ALABAMA     ALABAMA  1992     NaN      2678885.0         304177.0   \n",
       "1      1992_ALASKA      ALASKA  1992     NaN      1049591.0         106780.0   \n",
       "2     1992_ARIZONA     ARIZONA  1992     NaN      3258079.0         297888.0   \n",
       "3    1992_ARKANSAS    ARKANSAS  1992     NaN      1711959.0         178571.0   \n",
       "4  1992_CALIFORNIA  CALIFORNIA  1992     NaN     26260025.0        2072470.0   \n",
       "\n",
       "   STATE_REVENUE  LOCAL_REVENUE  TOTAL_EXPENDITURE  INSTRUCTION_EXPENDITURE  \\\n",
       "0      1659028.0       715680.0          2653798.0                1481703.0   \n",
       "1       720711.0       222100.0           972488.0                 498362.0   \n",
       "2      1369815.0      1590376.0          3401580.0                1435908.0   \n",
       "3       958785.0       574603.0          1743022.0                 964323.0   \n",
       "4     16546514.0      7641041.0         27138832.0               14358922.0   \n",
       "\n",
       "   ...  GRADES_4_G  GRADES_8_G  GRADES_12_G  GRADES_1_8_G  GRADES_9_12_G  \\\n",
       "0  ...     57948.0     58025.0      41167.0           NaN            NaN   \n",
       "1  ...      9748.0      8789.0       6714.0           NaN            NaN   \n",
       "2  ...     55433.0     49081.0      37410.0           NaN            NaN   \n",
       "3  ...     34632.0     36011.0      27651.0           NaN            NaN   \n",
       "4  ...    418418.0    363296.0     270675.0           NaN            NaN   \n",
       "\n",
       "   GRADES_ALL_G  AVG_MATH_4_SCORE  AVG_MATH_8_SCORE  AVG_READING_4_SCORE  \\\n",
       "0      731634.0             208.0             252.0                207.0   \n",
       "1      122487.0               NaN               NaN                  NaN   \n",
       "2      673477.0             215.0             265.0                209.0   \n",
       "3      441490.0             210.0             256.0                211.0   \n",
       "4     5254844.0             208.0             261.0                202.0   \n",
       "\n",
       "   AVG_READING_8_SCORE  \n",
       "0                  NaN  \n",
       "1                  NaN  \n",
       "2                  NaN  \n",
       "3                  NaN  \n",
       "4                  NaN  \n",
       "\n",
       "[5 rows x 25 columns]"
      ]
     },
     "execution_count": 99,
     "metadata": {},
     "output_type": "execute_result"
    }
   ],
   "source": [
    "df = pd.read_csv('../data/states_edu.csv')\n",
    "df.head()"
   ]
  },
  {
   "cell_type": "markdown",
   "metadata": {},
   "source": [
    "You should always familiarize yourself with what each column in the dataframe represents. Read about the states_edu dataset here: https://www.kaggle.com/noriuk/us-education-datasets-unification-project"
   ]
  },
  {
   "cell_type": "markdown",
   "metadata": {},
   "source": [
    "Use this space to rename columns, deal with missing data, etc. _(optional)_"
   ]
  },
  {
   "cell_type": "code",
   "execution_count": 100,
   "metadata": {},
   "outputs": [],
   "source": [
    "# rename columns, similar to tutorial\n",
    "df.rename({\n",
    "    'GRADES_PK_G':'ENROLL_PK',\n",
    "    'GRADES_KG_G':'ENROLL_KG',\n",
    "    'GRADES_4_G':'ENROLL_4',\n",
    "    'GRADES_8_G':'ENROLL_8',\n",
    "    'GRADES_12_G':'ENROLL_12',\n",
    "    'GRADES_1_8_G':'ENROLL_PRIMARY',\n",
    "    'GRADES_9_12_G':'ENROLL_HS',\n",
    "    'GRADES_ALL_G':'ENROLL_ALL',\n",
    "    'ENROLL':'ENROLL_EST'\n",
    "    },\n",
    "    axis=1,inplace=True)"
   ]
  },
  {
   "cell_type": "code",
   "execution_count": 101,
   "metadata": {},
   "outputs": [],
   "source": [
    "# going to explore 4th grade reading, so drop rows missing those scores\n",
    "df.dropna(subset=['AVG_READING_4_SCORE'], inplace=True)"
   ]
  },
  {
   "cell_type": "markdown",
   "metadata": {},
   "source": [
    "<h2>Exploratory Data Analysis (EDA) </h2>"
   ]
  },
  {
   "cell_type": "markdown",
   "metadata": {},
   "source": [
    "Chosen Outcome Variable for Test: AVG_READING_4_SCORE"
   ]
  },
  {
   "cell_type": "markdown",
   "metadata": {},
   "source": [
    "How many years of data are logged in our dataset? "
   ]
  },
  {
   "cell_type": "code",
   "execution_count": 102,
   "metadata": {},
   "outputs": [
    {
     "data": {
      "text/plain": [
       "33"
      ]
     },
     "execution_count": 102,
     "metadata": {},
     "output_type": "execute_result"
    }
   ],
   "source": [
    "df_whole['YEAR'].max() - df_whole['YEAR'].min()"
   ]
  },
  {
   "cell_type": "markdown",
   "metadata": {},
   "source": [
    "Let's compare Michigan to Ohio. Which state has the higher average outcome score across all years?"
   ]
  },
  {
   "cell_type": "code",
   "execution_count": 116,
   "metadata": {},
   "outputs": [
    {
     "name": "stdout",
     "output_type": "stream",
     "text": [
      "Ohio has a higher average score of  223.1818181818182  compared to Michigan with  217.83333333333334\n"
     ]
    }
   ],
   "source": [
    "MI_score = (df.loc[df['STATE'] == 'MICHIGAN'])['AVG_READING_4_SCORE'].mean()\n",
    "OH_score = (df.loc[df['STATE'] == 'OHIO'])['AVG_READING_4_SCORE'].mean()\n",
    "\n",
    "if MI_score > OH_score:\n",
    "    print(\"Michigan has a higher average score of \",str(MI_score),\" compared to Ohio with \",str(OH_score))\n",
    "else:\n",
    "    print(\"Ohio has a higher average score of \",str(OH_score),\" compared to Michigan with \",str(MI_score))"
   ]
  },
  {
   "cell_type": "markdown",
   "metadata": {},
   "source": [
    "Find the average for your outcome score across all states in 2019"
   ]
  },
  {
   "cell_type": "code",
   "execution_count": 122,
   "metadata": {},
   "outputs": [
    {
     "data": {
      "text/plain": [
       "219.79245283018867"
      ]
     },
     "execution_count": 122,
     "metadata": {},
     "output_type": "execute_result"
    }
   ],
   "source": [
    "(df.loc[df['YEAR'] == 2019])['AVG_READING_4_SCORE'].mean()"
   ]
  },
  {
   "cell_type": "markdown",
   "metadata": {},
   "source": [
    "Find the maximum outcome score for every state. \n",
    "\n",
    "Refer to the `Grouping and Aggregating` section in Tutorial 0 if you are stuck."
   ]
  },
  {
   "cell_type": "code",
   "execution_count": 127,
   "metadata": {},
   "outputs": [
    {
     "data": {
      "text/plain": [
       "STATE\n",
       "ALABAMA                 220.0\n",
       "ALASKA                  214.0\n",
       "ARIZONA                 216.0\n",
       "ARKANSAS                219.0\n",
       "CALIFORNIA              216.0\n",
       "COLORADO                227.0\n",
       "CONNECTICUT             230.0\n",
       "DELAWARE                226.0\n",
       "DISTRICT_OF_COLUMBIA    214.0\n",
       "DODEA                   235.0\n",
       "FLORIDA                 228.0\n",
       "GEORGIA                 222.0\n",
       "HAWAII                  218.0\n",
       "IDAHO                   223.0\n",
       "ILLINOIS                222.0\n",
       "INDIANA                 227.0\n",
       "IOWA                    225.0\n",
       "KANSAS                  225.0\n",
       "KENTUCKY                228.0\n",
       "LOUISIANA               216.0\n",
       "MAINE                   228.0\n",
       "MARYLAND                232.0\n",
       "MASSACHUSETTS           237.0\n",
       "MICHIGAN                220.0\n",
       "MINNESOTA               227.0\n",
       "MISSISSIPPI             219.0\n",
       "MISSOURI                224.0\n",
       "MONTANA                 227.0\n",
       "NATIONAL                223.0\n",
       "NEBRASKA                227.0\n",
       "NEVADA                  218.0\n",
       "NEW_HAMPSHIRE           232.0\n",
       "NEW_JERSEY              233.0\n",
       "NEW_MEXICO              212.0\n",
       "NEW_YORK                224.0\n",
       "NORTH_CAROLINA          226.0\n",
       "NORTH_DAKOTA            226.0\n",
       "OHIO                    226.0\n",
       "OKLAHOMA                222.0\n",
       "OREGON                  220.0\n",
       "PENNSYLVANIA            227.0\n",
       "RHODE_ISLAND            225.0\n",
       "SOUTH_CAROLINA          218.0\n",
       "SOUTH_DAKOTA            223.0\n",
       "TENNESSEE               220.0\n",
       "TEXAS                   220.0\n",
       "UTAH                    226.0\n",
       "VERMONT                 230.0\n",
       "VIRGINIA                229.0\n",
       "WASHINGTON              226.0\n",
       "WEST_VIRGINIA           219.0\n",
       "WISCONSIN               224.0\n",
       "WYOMING                 228.0\n",
       "Name: AVG_READING_4_SCORE, dtype: float64"
      ]
     },
     "execution_count": 127,
     "metadata": {},
     "output_type": "execute_result"
    }
   ],
   "source": [
    "(df.groupby('STATE'))['AVG_READING_4_SCORE'].max()"
   ]
  },
  {
   "cell_type": "code",
   "execution_count": 194,
   "metadata": {
    "scrolled": true
   },
   "outputs": [
    {
     "data": {
      "text/html": [
       "<div>\n",
       "<style scoped>\n",
       "    .dataframe tbody tr th:only-of-type {\n",
       "        vertical-align: middle;\n",
       "    }\n",
       "\n",
       "    .dataframe tbody tr th {\n",
       "        vertical-align: top;\n",
       "    }\n",
       "\n",
       "    .dataframe thead th {\n",
       "        text-align: right;\n",
       "    }\n",
       "</style>\n",
       "<table border=\"1\" class=\"dataframe\">\n",
       "  <thead>\n",
       "    <tr style=\"text-align: right;\">\n",
       "      <th></th>\n",
       "      <th>AVG_READING_4_SCORE</th>\n",
       "      <th>AVG_MATH_4_SCORE</th>\n",
       "      <th>AVG_READING_8_SCORE</th>\n",
       "      <th>AVG_MATH_8_SCORE</th>\n",
       "    </tr>\n",
       "    <tr>\n",
       "      <th>STATE</th>\n",
       "      <th></th>\n",
       "      <th></th>\n",
       "      <th></th>\n",
       "      <th></th>\n",
       "    </tr>\n",
       "  </thead>\n",
       "  <tbody>\n",
       "    <tr>\n",
       "      <th>ALABAMA</th>\n",
       "      <td>212.615385</td>\n",
       "      <td>227.000000</td>\n",
       "      <td>255.000000</td>\n",
       "      <td>265.300000</td>\n",
       "    </tr>\n",
       "    <tr>\n",
       "      <th>ALASKA</th>\n",
       "      <td>209.888889</td>\n",
       "      <td>234.777778</td>\n",
       "      <td>258.333333</td>\n",
       "      <td>280.000000</td>\n",
       "    </tr>\n",
       "    <tr>\n",
       "      <th>ARIZONA</th>\n",
       "      <td>210.230769</td>\n",
       "      <td>232.100000</td>\n",
       "      <td>258.636364</td>\n",
       "      <td>276.700000</td>\n",
       "    </tr>\n",
       "    <tr>\n",
       "      <th>ARKANSAS</th>\n",
       "      <td>214.692308</td>\n",
       "      <td>233.100000</td>\n",
       "      <td>258.818182</td>\n",
       "      <td>272.400000</td>\n",
       "    </tr>\n",
       "    <tr>\n",
       "      <th>CALIFORNIA</th>\n",
       "      <td>208.230769</td>\n",
       "      <td>229.400000</td>\n",
       "      <td>255.000000</td>\n",
       "      <td>271.400000</td>\n",
       "    </tr>\n",
       "    <tr>\n",
       "      <th>COLORADO</th>\n",
       "      <td>222.666667</td>\n",
       "      <td>239.400000</td>\n",
       "      <td>267.600000</td>\n",
       "      <td>284.800000</td>\n",
       "    </tr>\n",
       "    <tr>\n",
       "      <th>CONNECTICUT</th>\n",
       "      <td>227.000000</td>\n",
       "      <td>240.500000</td>\n",
       "      <td>270.181818</td>\n",
       "      <td>283.600000</td>\n",
       "    </tr>\n",
       "    <tr>\n",
       "      <th>DELAWARE</th>\n",
       "      <td>220.384615</td>\n",
       "      <td>237.200000</td>\n",
       "      <td>263.636364</td>\n",
       "      <td>278.800000</td>\n",
       "    </tr>\n",
       "    <tr>\n",
       "      <th>DISTRICT_OF_COLUMBIA</th>\n",
       "      <td>197.000000</td>\n",
       "      <td>219.000000</td>\n",
       "      <td>242.818182</td>\n",
       "      <td>254.800000</td>\n",
       "    </tr>\n",
       "    <tr>\n",
       "      <th>DODEA</th>\n",
       "      <td>228.636364</td>\n",
       "      <td>243.222222</td>\n",
       "      <td>274.181818</td>\n",
       "      <td>288.333333</td>\n",
       "    </tr>\n",
       "    <tr>\n",
       "      <th>FLORIDA</th>\n",
       "      <td>219.384615</td>\n",
       "      <td>238.800000</td>\n",
       "      <td>261.272727</td>\n",
       "      <td>275.300000</td>\n",
       "    </tr>\n",
       "    <tr>\n",
       "      <th>GEORGIA</th>\n",
       "      <td>216.230769</td>\n",
       "      <td>233.900000</td>\n",
       "      <td>260.545455</td>\n",
       "      <td>275.000000</td>\n",
       "    </tr>\n",
       "    <tr>\n",
       "      <th>HAWAII</th>\n",
       "      <td>210.153846</td>\n",
       "      <td>233.800000</td>\n",
       "      <td>254.545455</td>\n",
       "      <td>272.200000</td>\n",
       "    </tr>\n",
       "    <tr>\n",
       "      <th>IDAHO</th>\n",
       "      <td>221.000000</td>\n",
       "      <td>238.300000</td>\n",
       "      <td>266.700000</td>\n",
       "      <td>283.400000</td>\n",
       "    </tr>\n",
       "    <tr>\n",
       "      <th>ILLINOIS</th>\n",
       "      <td>218.666667</td>\n",
       "      <td>236.777778</td>\n",
       "      <td>265.555556</td>\n",
       "      <td>281.333333</td>\n",
       "    </tr>\n",
       "    <tr>\n",
       "      <th>INDIANA</th>\n",
       "      <td>222.250000</td>\n",
       "      <td>242.000000</td>\n",
       "      <td>265.900000</td>\n",
       "      <td>283.900000</td>\n",
       "    </tr>\n",
       "    <tr>\n",
       "      <th>IOWA</th>\n",
       "      <td>222.538462</td>\n",
       "      <td>241.000000</td>\n",
       "      <td>266.555556</td>\n",
       "      <td>284.400000</td>\n",
       "    </tr>\n",
       "    <tr>\n",
       "      <th>KANSAS</th>\n",
       "      <td>222.000000</td>\n",
       "      <td>243.777778</td>\n",
       "      <td>266.818182</td>\n",
       "      <td>286.444444</td>\n",
       "    </tr>\n",
       "    <tr>\n",
       "      <th>KENTUCKY</th>\n",
       "      <td>220.846154</td>\n",
       "      <td>235.100000</td>\n",
       "      <td>265.545455</td>\n",
       "      <td>276.500000</td>\n",
       "    </tr>\n",
       "    <tr>\n",
       "      <th>LOUISIANA</th>\n",
       "      <td>207.230769</td>\n",
       "      <td>227.500000</td>\n",
       "      <td>254.636364</td>\n",
       "      <td>268.100000</td>\n",
       "    </tr>\n",
       "    <tr>\n",
       "      <th>MAINE</th>\n",
       "      <td>224.384615</td>\n",
       "      <td>241.000000</td>\n",
       "      <td>268.909091</td>\n",
       "      <td>284.300000</td>\n",
       "    </tr>\n",
       "    <tr>\n",
       "      <th>MARYLAND</th>\n",
       "      <td>220.846154</td>\n",
       "      <td>238.300000</td>\n",
       "      <td>265.727273</td>\n",
       "      <td>281.400000</td>\n",
       "    </tr>\n",
       "    <tr>\n",
       "      <th>MASSACHUSETTS</th>\n",
       "      <td>231.230769</td>\n",
       "      <td>247.300000</td>\n",
       "      <td>273.727273</td>\n",
       "      <td>293.700000</td>\n",
       "    </tr>\n",
       "    <tr>\n",
       "      <th>MICHIGAN</th>\n",
       "      <td>217.833333</td>\n",
       "      <td>234.900000</td>\n",
       "      <td>263.500000</td>\n",
       "      <td>277.300000</td>\n",
       "    </tr>\n",
       "    <tr>\n",
       "      <th>MINNESOTA</th>\n",
       "      <td>222.923077</td>\n",
       "      <td>246.100000</td>\n",
       "      <td>268.300000</td>\n",
       "      <td>291.800000</td>\n",
       "    </tr>\n",
       "    <tr>\n",
       "      <th>MISSISSIPPI</th>\n",
       "      <td>207.769231</td>\n",
       "      <td>227.800000</td>\n",
       "      <td>253.090909</td>\n",
       "      <td>265.500000</td>\n",
       "    </tr>\n",
       "    <tr>\n",
       "      <th>MISSOURI</th>\n",
       "      <td>220.538462</td>\n",
       "      <td>236.900000</td>\n",
       "      <td>265.636364</td>\n",
       "      <td>280.100000</td>\n",
       "    </tr>\n",
       "    <tr>\n",
       "      <th>MONTANA</th>\n",
       "      <td>224.000000</td>\n",
       "      <td>241.777778</td>\n",
       "      <td>269.818182</td>\n",
       "      <td>287.777778</td>\n",
       "    </tr>\n",
       "    <tr>\n",
       "      <th>NATIONAL</th>\n",
       "      <td>218.928571</td>\n",
       "      <td>236.636364</td>\n",
       "      <td>263.615385</td>\n",
       "      <td>279.818182</td>\n",
       "    </tr>\n",
       "    <tr>\n",
       "      <th>NEBRASKA</th>\n",
       "      <td>222.500000</td>\n",
       "      <td>239.300000</td>\n",
       "      <td>267.600000</td>\n",
       "      <td>283.900000</td>\n",
       "    </tr>\n",
       "    <tr>\n",
       "      <th>NEVADA</th>\n",
       "      <td>211.363636</td>\n",
       "      <td>233.333333</td>\n",
       "      <td>256.090909</td>\n",
       "      <td>273.666667</td>\n",
       "    </tr>\n",
       "    <tr>\n",
       "      <th>NEW_HAMPSHIRE</th>\n",
       "      <td>228.083333</td>\n",
       "      <td>246.300000</td>\n",
       "      <td>271.777778</td>\n",
       "      <td>289.100000</td>\n",
       "    </tr>\n",
       "    <tr>\n",
       "      <th>NEW_JERSEY</th>\n",
       "      <td>227.181818</td>\n",
       "      <td>244.000000</td>\n",
       "      <td>271.888889</td>\n",
       "      <td>288.600000</td>\n",
       "    </tr>\n",
       "    <tr>\n",
       "      <th>NEW_MEXICO</th>\n",
       "      <td>207.384615</td>\n",
       "      <td>227.600000</td>\n",
       "      <td>253.909091</td>\n",
       "      <td>268.000000</td>\n",
       "    </tr>\n",
       "    <tr>\n",
       "      <th>NEW_YORK</th>\n",
       "      <td>220.615385</td>\n",
       "      <td>236.400000</td>\n",
       "      <td>264.363636</td>\n",
       "      <td>279.300000</td>\n",
       "    </tr>\n",
       "    <tr>\n",
       "      <th>NORTH_CAROLINA</th>\n",
       "      <td>219.230769</td>\n",
       "      <td>239.800000</td>\n",
       "      <td>261.909091</td>\n",
       "      <td>280.800000</td>\n",
       "    </tr>\n",
       "    <tr>\n",
       "      <th>NORTH_DAKOTA</th>\n",
       "      <td>224.333333</td>\n",
       "      <td>242.300000</td>\n",
       "      <td>267.700000</td>\n",
       "      <td>288.700000</td>\n",
       "    </tr>\n",
       "    <tr>\n",
       "      <th>OHIO</th>\n",
       "      <td>223.181818</td>\n",
       "      <td>240.400000</td>\n",
       "      <td>267.700000</td>\n",
       "      <td>284.200000</td>\n",
       "    </tr>\n",
       "    <tr>\n",
       "      <th>OKLAHOMA</th>\n",
       "      <td>216.750000</td>\n",
       "      <td>234.700000</td>\n",
       "      <td>261.090909</td>\n",
       "      <td>274.300000</td>\n",
       "    </tr>\n",
       "    <tr>\n",
       "      <th>OREGON</th>\n",
       "      <td>217.363636</td>\n",
       "      <td>236.888889</td>\n",
       "      <td>265.636364</td>\n",
       "      <td>282.666667</td>\n",
       "    </tr>\n",
       "    <tr>\n",
       "      <th>PENNSYLVANIA</th>\n",
       "      <td>223.083333</td>\n",
       "      <td>240.800000</td>\n",
       "      <td>267.800000</td>\n",
       "      <td>283.600000</td>\n",
       "    </tr>\n",
       "    <tr>\n",
       "      <th>RHODE_ISLAND</th>\n",
       "      <td>220.153846</td>\n",
       "      <td>235.100000</td>\n",
       "      <td>262.818182</td>\n",
       "      <td>276.400000</td>\n",
       "    </tr>\n",
       "    <tr>\n",
       "      <th>SOUTH_CAROLINA</th>\n",
       "      <td>213.076923</td>\n",
       "      <td>234.100000</td>\n",
       "      <td>258.363636</td>\n",
       "      <td>276.900000</td>\n",
       "    </tr>\n",
       "    <tr>\n",
       "      <th>SOUTH_DAKOTA</th>\n",
       "      <td>221.222222</td>\n",
       "      <td>240.777778</td>\n",
       "      <td>268.111111</td>\n",
       "      <td>287.444444</td>\n",
       "    </tr>\n",
       "    <tr>\n",
       "      <th>TENNESSEE</th>\n",
       "      <td>215.538462</td>\n",
       "      <td>232.700000</td>\n",
       "      <td>260.727273</td>\n",
       "      <td>273.600000</td>\n",
       "    </tr>\n",
       "    <tr>\n",
       "      <th>TEXAS</th>\n",
       "      <td>216.384615</td>\n",
       "      <td>239.100000</td>\n",
       "      <td>260.272727</td>\n",
       "      <td>282.000000</td>\n",
       "    </tr>\n",
       "    <tr>\n",
       "      <th>UTAH</th>\n",
       "      <td>221.076923</td>\n",
       "      <td>239.200000</td>\n",
       "      <td>265.636364</td>\n",
       "      <td>282.400000</td>\n",
       "    </tr>\n",
       "    <tr>\n",
       "      <th>VERMONT</th>\n",
       "      <td>227.000000</td>\n",
       "      <td>244.222222</td>\n",
       "      <td>272.000000</td>\n",
       "      <td>290.111111</td>\n",
       "    </tr>\n",
       "    <tr>\n",
       "      <th>VIRGINIA</th>\n",
       "      <td>224.230769</td>\n",
       "      <td>242.000000</td>\n",
       "      <td>266.909091</td>\n",
       "      <td>285.000000</td>\n",
       "    </tr>\n",
       "    <tr>\n",
       "      <th>WASHINGTON</th>\n",
       "      <td>221.583333</td>\n",
       "      <td>242.333333</td>\n",
       "      <td>267.090909</td>\n",
       "      <td>286.666667</td>\n",
       "    </tr>\n",
       "    <tr>\n",
       "      <th>WEST_VIRGINIA</th>\n",
       "      <td>215.615385</td>\n",
       "      <td>232.000000</td>\n",
       "      <td>258.090909</td>\n",
       "      <td>270.200000</td>\n",
       "    </tr>\n",
       "    <tr>\n",
       "      <th>WISCONSIN</th>\n",
       "      <td>221.666667</td>\n",
       "      <td>241.000000</td>\n",
       "      <td>266.800000</td>\n",
       "      <td>286.500000</td>\n",
       "    </tr>\n",
       "    <tr>\n",
       "      <th>WYOMING</th>\n",
       "      <td>223.692308</td>\n",
       "      <td>242.700000</td>\n",
       "      <td>267.363636</td>\n",
       "      <td>285.200000</td>\n",
       "    </tr>\n",
       "  </tbody>\n",
       "</table>\n",
       "</div>"
      ],
      "text/plain": [
       "                      AVG_READING_4_SCORE  AVG_MATH_4_SCORE  \\\n",
       "STATE                                                         \n",
       "ALABAMA                        212.615385        227.000000   \n",
       "ALASKA                         209.888889        234.777778   \n",
       "ARIZONA                        210.230769        232.100000   \n",
       "ARKANSAS                       214.692308        233.100000   \n",
       "CALIFORNIA                     208.230769        229.400000   \n",
       "COLORADO                       222.666667        239.400000   \n",
       "CONNECTICUT                    227.000000        240.500000   \n",
       "DELAWARE                       220.384615        237.200000   \n",
       "DISTRICT_OF_COLUMBIA           197.000000        219.000000   \n",
       "DODEA                          228.636364        243.222222   \n",
       "FLORIDA                        219.384615        238.800000   \n",
       "GEORGIA                        216.230769        233.900000   \n",
       "HAWAII                         210.153846        233.800000   \n",
       "IDAHO                          221.000000        238.300000   \n",
       "ILLINOIS                       218.666667        236.777778   \n",
       "INDIANA                        222.250000        242.000000   \n",
       "IOWA                           222.538462        241.000000   \n",
       "KANSAS                         222.000000        243.777778   \n",
       "KENTUCKY                       220.846154        235.100000   \n",
       "LOUISIANA                      207.230769        227.500000   \n",
       "MAINE                          224.384615        241.000000   \n",
       "MARYLAND                       220.846154        238.300000   \n",
       "MASSACHUSETTS                  231.230769        247.300000   \n",
       "MICHIGAN                       217.833333        234.900000   \n",
       "MINNESOTA                      222.923077        246.100000   \n",
       "MISSISSIPPI                    207.769231        227.800000   \n",
       "MISSOURI                       220.538462        236.900000   \n",
       "MONTANA                        224.000000        241.777778   \n",
       "NATIONAL                       218.928571        236.636364   \n",
       "NEBRASKA                       222.500000        239.300000   \n",
       "NEVADA                         211.363636        233.333333   \n",
       "NEW_HAMPSHIRE                  228.083333        246.300000   \n",
       "NEW_JERSEY                     227.181818        244.000000   \n",
       "NEW_MEXICO                     207.384615        227.600000   \n",
       "NEW_YORK                       220.615385        236.400000   \n",
       "NORTH_CAROLINA                 219.230769        239.800000   \n",
       "NORTH_DAKOTA                   224.333333        242.300000   \n",
       "OHIO                           223.181818        240.400000   \n",
       "OKLAHOMA                       216.750000        234.700000   \n",
       "OREGON                         217.363636        236.888889   \n",
       "PENNSYLVANIA                   223.083333        240.800000   \n",
       "RHODE_ISLAND                   220.153846        235.100000   \n",
       "SOUTH_CAROLINA                 213.076923        234.100000   \n",
       "SOUTH_DAKOTA                   221.222222        240.777778   \n",
       "TENNESSEE                      215.538462        232.700000   \n",
       "TEXAS                          216.384615        239.100000   \n",
       "UTAH                           221.076923        239.200000   \n",
       "VERMONT                        227.000000        244.222222   \n",
       "VIRGINIA                       224.230769        242.000000   \n",
       "WASHINGTON                     221.583333        242.333333   \n",
       "WEST_VIRGINIA                  215.615385        232.000000   \n",
       "WISCONSIN                      221.666667        241.000000   \n",
       "WYOMING                        223.692308        242.700000   \n",
       "\n",
       "                      AVG_READING_8_SCORE  AVG_MATH_8_SCORE  \n",
       "STATE                                                        \n",
       "ALABAMA                        255.000000        265.300000  \n",
       "ALASKA                         258.333333        280.000000  \n",
       "ARIZONA                        258.636364        276.700000  \n",
       "ARKANSAS                       258.818182        272.400000  \n",
       "CALIFORNIA                     255.000000        271.400000  \n",
       "COLORADO                       267.600000        284.800000  \n",
       "CONNECTICUT                    270.181818        283.600000  \n",
       "DELAWARE                       263.636364        278.800000  \n",
       "DISTRICT_OF_COLUMBIA           242.818182        254.800000  \n",
       "DODEA                          274.181818        288.333333  \n",
       "FLORIDA                        261.272727        275.300000  \n",
       "GEORGIA                        260.545455        275.000000  \n",
       "HAWAII                         254.545455        272.200000  \n",
       "IDAHO                          266.700000        283.400000  \n",
       "ILLINOIS                       265.555556        281.333333  \n",
       "INDIANA                        265.900000        283.900000  \n",
       "IOWA                           266.555556        284.400000  \n",
       "KANSAS                         266.818182        286.444444  \n",
       "KENTUCKY                       265.545455        276.500000  \n",
       "LOUISIANA                      254.636364        268.100000  \n",
       "MAINE                          268.909091        284.300000  \n",
       "MARYLAND                       265.727273        281.400000  \n",
       "MASSACHUSETTS                  273.727273        293.700000  \n",
       "MICHIGAN                       263.500000        277.300000  \n",
       "MINNESOTA                      268.300000        291.800000  \n",
       "MISSISSIPPI                    253.090909        265.500000  \n",
       "MISSOURI                       265.636364        280.100000  \n",
       "MONTANA                        269.818182        287.777778  \n",
       "NATIONAL                       263.615385        279.818182  \n",
       "NEBRASKA                       267.600000        283.900000  \n",
       "NEVADA                         256.090909        273.666667  \n",
       "NEW_HAMPSHIRE                  271.777778        289.100000  \n",
       "NEW_JERSEY                     271.888889        288.600000  \n",
       "NEW_MEXICO                     253.909091        268.000000  \n",
       "NEW_YORK                       264.363636        279.300000  \n",
       "NORTH_CAROLINA                 261.909091        280.800000  \n",
       "NORTH_DAKOTA                   267.700000        288.700000  \n",
       "OHIO                           267.700000        284.200000  \n",
       "OKLAHOMA                       261.090909        274.300000  \n",
       "OREGON                         265.636364        282.666667  \n",
       "PENNSYLVANIA                   267.800000        283.600000  \n",
       "RHODE_ISLAND                   262.818182        276.400000  \n",
       "SOUTH_CAROLINA                 258.363636        276.900000  \n",
       "SOUTH_DAKOTA                   268.111111        287.444444  \n",
       "TENNESSEE                      260.727273        273.600000  \n",
       "TEXAS                          260.272727        282.000000  \n",
       "UTAH                           265.636364        282.400000  \n",
       "VERMONT                        272.000000        290.111111  \n",
       "VIRGINIA                       266.909091        285.000000  \n",
       "WASHINGTON                     267.090909        286.666667  \n",
       "WEST_VIRGINIA                  258.090909        270.200000  \n",
       "WISCONSIN                      266.800000        286.500000  \n",
       "WYOMING                        267.363636        285.200000  "
      ]
     },
     "execution_count": 194,
     "metadata": {},
     "output_type": "execute_result"
    }
   ],
   "source": [
    "(df.groupby('STATE'))[['AVG_READING_4_SCORE', 'AVG_MATH_4_SCORE', 'AVG_READING_8_SCORE', 'AVG_MATH_8_SCORE']].mean()"
   ]
  },
  {
   "cell_type": "markdown",
   "metadata": {},
   "source": [
    "<h2> Feature Engineering </h2>\n",
    "\n",
    "After exploring the data, you can choose to modify features that you would use to predict the performance of the students on your chosen response variable. \n",
    "\n",
    "You can also create your own features. For example, perhaps you figured that maybe a state's expenditure per student may affect their overall academic performance so you create a expenditure_per_student feature.\n",
    "\n",
    "Use this space to modify or create features."
   ]
  },
  {
   "cell_type": "code",
   "execution_count": 197,
   "metadata": {},
   "outputs": [],
   "source": [
    "# make a column that is the percentage of spending that is on instruction\n",
    "df['PERCENTAGE_INSTRUCTION_EXPENDITURE'] = df['INSTRUCTION_EXPENDITURE'] / df['TOTAL_EXPENDITURE']\n",
    "\n",
    "#df['PERCENTAGE_LOCAL_REVENUE'] = df['LOCAL_REVENUE'] / df['TOTAL_REVENUE']"
   ]
  },
  {
   "cell_type": "markdown",
   "metadata": {},
   "source": [
    "Feature engineering justification: Want to investigate is the percentage of money spent on instruction makes a difference as those states that prioritize the instruction would be thought to have higher scores"
   ]
  },
  {
   "cell_type": "markdown",
   "metadata": {},
   "source": [
    "<h2>Visualization</h2>\n",
    "\n",
    "Investigate the relationship between your chosen response variable and at least two predictors using visualizations. Write down your observations.\n",
    "\n",
    "**Visualization 1**"
   ]
  },
  {
   "cell_type": "code",
   "execution_count": 227,
   "metadata": {},
   "outputs": [
    {
     "data": {
      "text/plain": [
       "Text(0, 0.5, '4th Grade Reading Score')"
      ]
     },
     "execution_count": 227,
     "metadata": {},
     "output_type": "execute_result"
    },
    {
     "data": {
      "image/png": "[encoded data removed]",
      "text/plain": [
       "<Figure size 640x480 with 1 Axes>"
      ]
     },
     "metadata": {},
     "output_type": "display_data"
    }
   ],
   "source": [
    "df.plot.scatter(x='PERCENTAGE_INSTRUCTION_EXPENDITURE', y='AVG_READING_4_SCORE', alpha=0.8)\n",
    "plt.xlabel('Percentage of Spending on Instruction')\n",
    "plt.ylabel('4th Grade Reading Score')"
   ]
  },
  {
   "cell_type": "markdown",
   "metadata": {},
   "source": [
    "4th grade reading scores by the percentage of total spending a state used on instruction"
   ]
  },
  {
   "cell_type": "markdown",
   "metadata": {},
   "source": [
    "**Visualization 2**"
   ]
  },
  {
   "cell_type": "code",
   "execution_count": 228,
   "metadata": {},
   "outputs": [
    {
     "data": {
      "text/plain": [
       "<AxesSubplot:xlabel='AVG_MATH_4_SCORE', ylabel='AVG_READING_4_SCORE'>"
      ]
     },
     "execution_count": 228,
     "metadata": {},
     "output_type": "execute_result"
    },
    {
     "data": {
      "image/png": "[encoded data removed]",
      "text/plain": [
       "<Figure size 640x480 with 1 Axes>"
      ]
     },
     "metadata": {},
     "output_type": "display_data"
    }
   ],
   "source": [
    "df.plot.scatter(x='AVG_MATH_4_SCORE', y='AVG_READING_4_SCORE', alpha=0.8)"
   ]
  },
  {
   "cell_type": "markdown",
   "metadata": {},
   "source": [
    "4th grade math scores vs reading scores"
   ]
  },
  {
   "cell_type": "markdown",
   "metadata": {},
   "source": [
    "<h2> Data Creation </h2>\n",
    "\n",
    "_Use this space to create train/test data_"
   ]
  },
  {
   "cell_type": "code",
   "execution_count": 229,
   "metadata": {},
   "outputs": [],
   "source": [
    "from sklearn.model_selection import train_test_split"
   ]
  },
  {
   "cell_type": "code",
   "execution_count": 230,
   "metadata": {},
   "outputs": [],
   "source": [
    "X = df[['PERCENTAGE_INSTRUCTION_SPENDING','AVG_MATH_4_SCORE']].dropna()\n",
    "y = df.loc[X.index]['AVG_READING_4_SCORE']"
   ]
  },
  {
   "cell_type": "code",
   "execution_count": 231,
   "metadata": {},
   "outputs": [],
   "source": [
    "X_train, X_test, y_train, y_test = train_test_split(X, y, test_size=0.3, random_state=42)"
   ]
  },
  {
   "cell_type": "markdown",
   "metadata": {},
   "source": [
    "<h2> Prediction </h2>"
   ]
  },
  {
   "cell_type": "markdown",
   "metadata": {},
   "source": [
    "ML Models [Resource](https://medium.com/@vijaya.beeravalli/comparison-of-machine-learning-classification-models-for-credit-card-default-data-c3cf805c9a5a)"
   ]
  },
  {
   "cell_type": "code",
   "execution_count": 232,
   "metadata": {},
   "outputs": [],
   "source": [
    "# import your sklearn class here\n",
    "from sklearn.linear_model import LinearRegression"
   ]
  },
  {
   "cell_type": "code",
   "execution_count": 233,
   "metadata": {},
   "outputs": [],
   "source": [
    "# create your model here\n",
    "model = LinearRegression() "
   ]
  },
  {
   "cell_type": "code",
   "execution_count": 234,
   "metadata": {},
   "outputs": [
    {
     "data": {
      "text/plain": [
       "LinearRegression()"
      ]
     },
     "execution_count": 234,
     "metadata": {},
     "output_type": "execute_result"
    }
   ],
   "source": [
    "model.fit(X_train, y_train)"
   ]
  },
  {
   "cell_type": "code",
   "execution_count": 235,
   "metadata": {},
   "outputs": [],
   "source": [
    "y_pred = model.predict(X_test)"
   ]
  },
  {
   "cell_type": "markdown",
   "metadata": {},
   "source": [
    "## Evaluation"
   ]
  },
  {
   "cell_type": "markdown",
   "metadata": {},
   "source": [
    "Choose some metrics to evaluate the performance of your model, some of them are mentioned in the tutorial."
   ]
  },
  {
   "cell_type": "code",
   "execution_count": 236,
   "metadata": {},
   "outputs": [
    {
     "data": {
      "text/plain": [
       "0.7091558935697788"
      ]
     },
     "execution_count": 236,
     "metadata": {},
     "output_type": "execute_result"
    }
   ],
   "source": [
    "# use r^2 as a starting point\n",
    "model.score(X_test, y_test)"
   ]
  },
  {
   "cell_type": "code",
   "execution_count": 237,
   "metadata": {},
   "outputs": [
    {
     "data": {
      "text/plain": [
       "4.375894063742824"
      ]
     },
     "execution_count": 237,
     "metadata": {},
     "output_type": "execute_result"
    }
   ],
   "source": [
    "# lets us mean squared error to see if we have lots of large errors\n",
    "np.mean((model.predict(X_test)-y_test)**2)**0.5"
   ]
  },
  {
   "cell_type": "markdown",
   "metadata": {},
   "source": [
    "We have copied over the graphs that visualize the model's performance on the training and testing set. \n",
    "\n",
    "Change `col_name` and modify the call to `plt.ylabel()` to isolate how a single predictor affects the model."
   ]
  },
  {
   "cell_type": "code",
   "execution_count": 240,
   "metadata": {},
   "outputs": [
    {
     "data": {
      "text/plain": [
       "Text(0.5, 1.0, 'Model Behavior On Training Set')"
      ]
     },
     "execution_count": 240,
     "metadata": {},
     "output_type": "execute_result"
    },
    {
     "data": {
      "image/png": "[encoded data removed]",
      "text/plain": [
       "<Figure size 1200x600 with 1 Axes>"
      ]
     },
     "metadata": {},
     "output_type": "display_data"
    }
   ],
   "source": [
    "col_name = 'PERCENTAGE_INSTRUCTION_SPENDING'\n",
    "\n",
    "f = plt.figure(figsize=(12,6))\n",
    "plt.scatter(X_train[col_name], y_train, color = \"red\")\n",
    "plt.scatter(X_train[col_name], model.predict(X_train), color = \"green\")\n",
    "\n",
    "plt.legend(['True Training','Predicted Training'])\n",
    "plt.xlabel(col_name)\n",
    "plt.ylabel('Reading 4 Score')\n",
    "plt.title(\"Model Behavior On Training Set\")"
   ]
  },
  {
   "cell_type": "code",
   "execution_count": 241,
   "metadata": {},
   "outputs": [
    {
     "data": {
      "text/plain": [
       "Text(0.5, 1.0, 'Model Behavior on Testing Set')"
      ]
     },
     "execution_count": 241,
     "metadata": {},
     "output_type": "execute_result"
    },
    {
     "data": {
      "image/png": "[encoded data removed]",
      "text/plain": [
       "<Figure size 1200x600 with 1 Axes>"
      ]
     },
     "metadata": {},
     "output_type": "display_data"
    }
   ],
   "source": [
    "col_name = 'PERCENTAGE_INSTRUCTION_SPENDING'\n",
    "\n",
    "f = plt.figure(figsize=(12,6))\n",
    "plt.scatter(X_test[col_name], y_test, color = \"blue\")\n",
    "plt.scatter(X_test[col_name], model.predict(X_test), color = \"black\")\n",
    "\n",
    "plt.legend(['True testing','Predicted testing'])\n",
    "plt.xlabel(col_name)\n",
    "plt.ylabel('Reading 4 Score')\n",
    "plt.title(\"Model Behavior on Testing Set\")"
   ]
  },
  {
   "cell_type": "markdown",
   "metadata": {},
   "source": [
    "<h2> Summary </h2>"
   ]
  },
  {
   "cell_type": "markdown",
   "metadata": {},
   "source": [
    "I attempted to create a predictive linear regression model of the 4th grade reading scores. During the EDA and visualization steps it was difficult to find useful predictors that weren't the other scores. I looked into year, total expeniture, and local revenue (along with looking at what was explored in the tutorial). I ended up choosing the percentage of the states expenditure that was on instruction. It isn't a perfect predictor but it was the closest of the ones I investigated. As you might expect picking an imperfect predictor hurt the performance of my model slightly, with r^2 = 0.709 and MSE = 4.39. Thus, it can be concluded that how much a state spends on instruction vs total expenditure can give some insight into 4th grade reading scores, but it shouldn't be the only predictor used and there are probably several other variables that would be better served for this use."
   ]
  }
 ],
 "metadata": {
  "kernelspec": {
   "display_name": "Python 3 (ipykernel)",
   "language": "python",
   "name": "python3"
  },
  "language_info": {
   "codemirror_mode": {
    "name": "ipython",
    "version": 3
   },
   "file_extension": ".py",
   "mimetype": "text/x-python",
   "name": "python",
   "nbconvert_exporter": "python",
   "pygments_lexer": "ipython3",
   "version": "3.9.13"
  },
  "vscode": {
   "interpreter": {
    "hash": "6cf8df3ff69f85f626faf55c10df6fe2cb9d1236b4dc73844ee4dc01369c2c99"
   }
  }
 },
 "nbformat": 4,
 "nbformat_minor": 4
}
